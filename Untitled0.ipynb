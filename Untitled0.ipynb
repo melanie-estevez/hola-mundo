{
  "nbformat": 4,
  "nbformat_minor": 0,
  "metadata": {
    "colab": {
      "provenance": [],
      "authorship_tag": "ABX9TyOzs2OqLxJR4IE/KVTLBkDl",
      "include_colab_link": true
    },
    "kernelspec": {
      "name": "python3",
      "display_name": "Python 3"
    },
    "language_info": {
      "name": "python"
    }
  },
  "cells": [
    {
      "cell_type": "markdown",
      "metadata": {
        "id": "view-in-github",
        "colab_type": "text"
      },
      "source": [
        "<a href=\"https://colab.research.google.com/github/melanie-estevez/hola-mundo/blob/main/Untitled0.ipynb\" target=\"_parent\"><img src=\"https://colab.research.google.com/assets/colab-badge.svg\" alt=\"Open In Colab\"/></a>"
      ]
    },
    {
      "cell_type": "code",
      "execution_count": null,
      "metadata": {
        "id": "8M97PJsN_0yJ"
      },
      "outputs": [],
      "source": []
    },
    {
      "cell_type": "markdown",
      "source": [
        "#Parámetros\n",
        "##Tipos de Parámetros\n",
        "En este codigo se muestra los tipos de parametros y **argumentos**"
      ],
      "metadata": {
        "id": "6DhUDCHPDnxz"
      }
    },
    {
      "cell_type": "code",
      "source": [],
      "metadata": {
        "id": "nvX4AjHLGNmR"
      },
      "execution_count": null,
      "outputs": []
    },
    {
      "cell_type": "code",
      "source": [
        "#parametro posicional\n",
        "def saludar(nombre,edad):\n",
        "    print(f\"hola,{nombre}.tienes {edad} años\")\n",
        "saludar (\"pedro\", 24)\n",
        "#parametro por defecto\n",
        "def descripicion(nom,ocupacion=\"estudiantes\"):\n",
        "    print(f\"{nom} es {ocupacion}\")\n",
        "descripicion (\"juan\")\n",
        "descripicion (\"peter\",\"ingeniero\")\n",
        "#parametro con palabra clave\n",
        "def mostrar_info(nombre, ed, ciudad):\n",
        "    print (f\"nombre:{nombre}, edad:{ed}, ciudad: {ciudad}\")\n",
        "mostrar_info(ed=29, ciudad=\"Quito\", nombre=\"Maria\")\n",
        "#parametro por argumento\n",
        "def sumar(*numeros):\n",
        "    total=sum(numeros)\n",
        "    print(f\"la suma es:{total}\")\n",
        "sumar (1,2,3,4,5,6,7,8,9)\n",
        "\n",
        "def mostrar_datos(**datos):\n",
        "    for clave,valor in datos.items():\n",
        "        print(f\"{clave}, {valor}\")\n",
        "sumar(1,2,3,4,5,6,7,8,9)\n",
        "mostrar_datos(nombre=\"laura\", edad=15, ciudad=\"Quito\")\n",
        "#Args\n",
        "def suma(*args):\n",
        "    return sum(args)\n",
        "print(suma(1,2,3))\n",
        "#Kwargs\n",
        "def mostrar_dato(**kwargs):\n",
        "    for clave, value in kwargs.items():\n",
        "        print(f\"{clave},{value}\")\n",
        "mostrar_dato(nombre=\"Michael\",ciudad=\"Ibarra\",edad=54,estatura=24,peso=53)"
      ],
      "metadata": {
        "colab": {
          "base_uri": "https://localhost:8080/"
        },
        "id": "MhPNkIuoAv9c",
        "outputId": "583df69a-f216-468a-ae98-0c914116c07a"
      },
      "execution_count": 1,
      "outputs": [
        {
          "output_type": "stream",
          "name": "stdout",
          "text": [
            "vas a jugar pierdra papel o tijera contra computaora\n",
            "para piedra digita 1, papel 2 y tijera 3\n",
            "Ingrese el numero de su eleccion:3\n",
            "elegiste tijera\n",
            "la compu eligio tijera\n",
            "nadie gana\n"
          ]
        }
      ]
    },
    {
      "cell_type": "markdown",
      "source": [
        "#Funciones\n",
        "Aqui se muestran algunas **funciones** de practica"
      ],
      "metadata": {
        "id": "rXDGsbUVGVDI"
      }
    },
    {
      "cell_type": "code",
      "source": [
        "def contadorv():\n",
        "\n",
        " le=input(\"ingrese una palabra:\")\n",
        " vo=\"aeiouAEIOU\"\n",
        " cont=0\n",
        " for letr in le:\n",
        "    if letr in vo:\n",
        "        cont+=1\n",
        "\n",
        " print(f\"la palabra {le} tiene = {cont} vocales\")\n",
        "\n",
        "contadorv ()\n",
        "\n",
        "def suma():\n",
        "    a=int(input(\"ingrese el primer numero:\"))\n",
        "    b=int(input(\"ingrese el segundo numero:\"))\n",
        "\n",
        "    resultado=a+b\n",
        "\n",
        "    print (resultado)\n",
        "    return resultado\n",
        "print(\"HOLA QUIERO UNA SUMA\")\n",
        "\n",
        "suma()"
      ],
      "metadata": {
        "id": "KACRB0vKGi4B"
      },
      "execution_count": null,
      "outputs": []
    }
  ]
}