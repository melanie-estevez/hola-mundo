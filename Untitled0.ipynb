{
  "nbformat": 4,
  "nbformat_minor": 0,
  "metadata": {
    "colab": {
      "provenance": [],
      "authorship_tag": "ABX9TyOuiHXk1D3kSU9oCH2iwq6f",
      "include_colab_link": true
    },
    "kernelspec": {
      "name": "python3",
      "display_name": "Python 3"
    },
    "language_info": {
      "name": "python"
    }
  },
  "cells": [
    {
      "cell_type": "markdown",
      "metadata": {
        "id": "view-in-github",
        "colab_type": "text"
      },
      "source": [
        "<a href=\"https://colab.research.google.com/github/melanie-estevez/hola-mundo/blob/main/Untitled0.ipynb\" target=\"_parent\"><img src=\"https://colab.research.google.com/assets/colab-badge.svg\" alt=\"Open In Colab\"/></a>"
      ]
    },
    {
      "cell_type": "markdown",
      "source": [
        "#Parámetros\n",
        "##Tipos de Parámetros\n",
        "En este codigo se muestra los tipos de **parametros** y **argumentos**"
      ],
      "metadata": {
        "id": "6DhUDCHPDnxz"
      }
    },
    {
      "cell_type": "code",
      "source": [
        "#parametro posicional\n",
        "def saludar(nombre,edad):\n",
        "    print(f\"hola,{nombre}.tienes {edad} años\")\n",
        "saludar (\"pedro\", 24)\n",
        "#parametro por defecto\n",
        "def descripicion(nom,ocupacion=\"estudiantes\"):\n",
        "    print(f\"{nom} es {ocupacion}\")\n",
        "descripicion (\"juan\")\n",
        "descripicion (\"peter\",\"ingeniero\")\n",
        "#parametro con palabra clave\n",
        "def mostrar_info(nombre, ed, ciudad):\n",
        "    print (f\"nombre:{nombre}, edad:{ed}, ciudad: {ciudad}\")\n",
        "mostrar_info(ed=29, ciudad=\"Quito\", nombre=\"Maria\")\n",
        "#parametro por argumento\n",
        "def sumar(*numeros):\n",
        "    total=sum(numeros)\n",
        "    print(f\"la suma es:{total}\")\n",
        "sumar (1,2,3,4,5,6,7,8,9)\n",
        "\n",
        "def mostrar_datos(**datos):\n",
        "    for clave,valor in datos.items():\n",
        "        print(f\"{clave}, {valor}\")\n",
        "sumar(1,2,3,4,5,6,7,8,9)\n",
        "mostrar_datos(nombre=\"laura\", edad=15, ciudad=\"Quito\")\n",
        "#Args\n",
        "def suma(*args):\n",
        "    return sum(args)\n",
        "print(suma(1,2,3))\n",
        "#Kwargs\n",
        "def mostrar_dato(**kwargs):\n",
        "    for clave, value in kwargs.items():\n",
        "        print(f\"{clave},{value}\")\n",
        "mostrar_dato(nombre=\"Michael\",ciudad=\"Ibarra\",edad=54,estatura=24,peso=53)"
      ],
      "metadata": {
        "id": "MhPNkIuoAv9c"
      },
      "execution_count": null,
      "outputs": []
    },
    {
      "cell_type": "markdown",
      "source": [
        "#Funciones\n",
        "En este codigo se muestra algunas **funciones de practica**\n",
        "\n",
        "\n",
        "1.   Funcion de contador de vocales\n",
        "2.   Funcion suma\n",
        "\n"
      ],
      "metadata": {
        "id": "rXDGsbUVGVDI"
      }
    },
    {
      "cell_type": "code",
      "source": [
        "def contadorv():\n",
        "\n",
        " le=input(\"ingrese una palabra:\")\n",
        " vo=\"aeiouAEIOU\"\n",
        " cont=0\n",
        " for letr in le:\n",
        "    if letr in vo:\n",
        "        cont+=1\n",
        "\n",
        " print(f\"la palabra {le} tiene = {cont} vocales\")\n",
        "\n",
        "contadorv ()\n",
        "\n",
        "def suma():\n",
        "    a=int(input(\"ingrese el primer numero:\"))\n",
        "    b=int(input(\"ingrese el segundo numero:\"))\n",
        "\n",
        "    resultado=a+b\n",
        "\n",
        "    print (resultado)\n",
        "    return resultado\n",
        "print(\"HOLA QUIERO UNA SUMA\")\n",
        "\n",
        "suma()"
      ],
      "metadata": {
        "id": "KACRB0vKGi4B"
      },
      "execution_count": null,
      "outputs": []
    },
    {
      "cell_type": "markdown",
      "source": [
        "#Juego de entretenimiento\n",
        "##Piedra, Papel, Tijera\n",
        "Este codigo funciona como medio de entretenimiento, se trata del enfrentamiento entre el **usuario** y la **computadora** en el juego de piedra, papel o tijera."
      ],
      "metadata": {
        "id": "uDBbZzTCdRNG"
      }
    },
    {
      "cell_type": "code",
      "source": [
        "import random\n",
        "print(\"Bienvenido a piedra papel o tijera!!!\")\n",
        "print(\"Bienvenido jugaras piedra papel o tijera contra la computadora\")\n",
        "print(\"por favor selleciona una opción\")\n",
        "print(\"1.- prieda\")\n",
        "print(\"2.- papel\")\n",
        "print(\"3.- tijera\")\n",
        "mi_eleccion=int(input(\"Sellecione,entre '1,3': \"))\n",
        "if mi_eleccion == 1:\n",
        "    print(\"Escogiste piedra\")\n",
        "elif mi_eleccion == 2:\n",
        "    print(\"Escogiste papel\")\n",
        "elif mi_eleccion == 3:\n",
        "    print(\"Escogiste tijera\")\n",
        "else:\n",
        "    print(\"Debes escoger un número entre 1 y 3\")\n",
        "\n",
        "b = random.randint(1, 3)\n",
        "\n",
        "if b == 1:\n",
        "    print(\"LA PC escogio piedra\")\n",
        "elif b == 2:\n",
        "    print(\"LA PC escogio papel\")\n",
        "elif b == 3:\n",
        "    print(\"LA PC escogio tijera\")\n",
        "\n",
        "if (mi_eleccion == 1 and b == 1) or (mi_eleccion == 2 and b == 2) or (mi_eleccion == 3 and b == 3):\n",
        "    print(\"ES UN EMPATE\")\n",
        "\n",
        "elif (mi_eleccion == 1 and b == 3) or (mi_eleccion == 2 and b == 1) or (mi_eleccion == 3 and b == 2):\n",
        "    print(\"¡Ganaste!\")\n",
        "else:\n",
        "    print(\"La computadora ganó.\")\n",
        "\n",
        ""
      ],
      "metadata": {
        "id": "h_HQ-IlkdRsn"
      },
      "execution_count": null,
      "outputs": []
    }
  ]
}